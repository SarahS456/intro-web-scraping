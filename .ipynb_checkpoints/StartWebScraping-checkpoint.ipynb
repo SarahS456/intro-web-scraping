{
 "cells": [
  {
   "cell_type": "markdown",
   "metadata": {
    "colab_type": "text",
    "id": "5ceOE25ZsP2P"
   },
   "source": [
    "# Get started\n",
    "\n",
    "Imoprt modules we'll need to get started\n",
    "\n",
    "\n",
    "\n",
    "[Requests](http://docs.python-requests.org/en/master/)\n",
    "\n",
    "[Beautiful soup](https://www.crummy.com/software/BeautifulSoup/)\n",
    "\n",
    "[Pandas](https://pandas.pydata.org/)\n",
    "\n",
    "[NLTK](https://www.nltk.org/)\n",
    "\n",
    "\n",
    "When you have time go read more about them from the links above!"
   ]
  },
  {
   "cell_type": "code",
   "execution_count": 1,
   "metadata": {
    "colab": {},
    "colab_type": "code",
    "id": "T0h77uEbEC1k"
   },
   "outputs": [],
   "source": [
    "# import request & beautiful soup\n",
    "# request is for getting content from a URL\n",
    "# beautiful soup is used to parse through the HTML we get from requests\n",
    "import requests\n",
    "from bs4 import BeautifulSoup\n",
    "\n"
   ]
  },
  {
   "cell_type": "markdown",
   "metadata": {
    "colab_type": "text",
    "id": "USL3jIIbvSXu"
   },
   "source": [
    "Make a request to this page [sageelliott.com/scrape/](https://sageelliott.com/scrape/)\n",
    "\n",
    "This page has elements I made that will be good practice for web scraping\n"
   ]
  },
  {
   "cell_type": "code",
   "execution_count": 2,
   "metadata": {
    "colab": {},
    "colab_type": "code",
    "id": "fisiQTBZsWam"
   },
   "outputs": [],
   "source": [
    "# Make the request to a url\n",
    "r = requests.get('https://sageelliott.com/scrape/')\n"
   ]
  },
  {
   "cell_type": "code",
   "execution_count": 40,
   "metadata": {},
   "outputs": [
    {
     "data": {
      "text/plain": [
       "['__attrs__',\n",
       " '__bool__',\n",
       " '__class__',\n",
       " '__delattr__',\n",
       " '__dict__',\n",
       " '__dir__',\n",
       " '__doc__',\n",
       " '__enter__',\n",
       " '__eq__',\n",
       " '__exit__',\n",
       " '__format__',\n",
       " '__ge__',\n",
       " '__getattribute__',\n",
       " '__getstate__',\n",
       " '__gt__',\n",
       " '__hash__',\n",
       " '__init__',\n",
       " '__init_subclass__',\n",
       " '__iter__',\n",
       " '__le__',\n",
       " '__lt__',\n",
       " '__module__',\n",
       " '__ne__',\n",
       " '__new__',\n",
       " '__nonzero__',\n",
       " '__reduce__',\n",
       " '__reduce_ex__',\n",
       " '__repr__',\n",
       " '__setattr__',\n",
       " '__setstate__',\n",
       " '__sizeof__',\n",
       " '__str__',\n",
       " '__subclasshook__',\n",
       " '__weakref__',\n",
       " '_content',\n",
       " '_content_consumed',\n",
       " '_next',\n",
       " 'apparent_encoding',\n",
       " 'close',\n",
       " 'connection',\n",
       " 'content',\n",
       " 'cookies',\n",
       " 'elapsed',\n",
       " 'encoding',\n",
       " 'headers',\n",
       " 'history',\n",
       " 'is_permanent_redirect',\n",
       " 'is_redirect',\n",
       " 'iter_content',\n",
       " 'iter_lines',\n",
       " 'json',\n",
       " 'links',\n",
       " 'next',\n",
       " 'ok',\n",
       " 'raise_for_status',\n",
       " 'raw',\n",
       " 'reason',\n",
       " 'request',\n",
       " 'status_code',\n",
       " 'text',\n",
       " 'url']"
      ]
     },
     "execution_count": 40,
     "metadata": {},
     "output_type": "execute_result"
    }
   ],
   "source": [
    "dir(r)"
   ]
  },
  {
   "cell_type": "code",
   "execution_count": 3,
   "metadata": {
    "colab": {
     "base_uri": "https://localhost:8080/",
     "height": 55
    },
    "colab_type": "code",
    "id": "kaDlHrIJvvzP",
    "outputId": "1eb8fe75-4d22-46d5-9678-18ee29c20b05"
   },
   "outputs": [
    {
     "name": "stdout",
     "output_type": "stream",
     "text": [
      "b'<!DOCTYPE html>\\n<html>\\n\\n  <head>\\n  <meta charset=\"utf-8\">\\n  <meta http-equiv=\"X-UA-Compatible\" content=\"IE=edge\">\\n  <meta name=\"viewport\" content=\"width=device-width, initial-scale=1\">\\n\\n  <title>Web Scraping | Sage Elliott</title>\\n  <meta name=\"description\" content=\"I make things.\">\\n\\n  <link rel=\"stylesheet\" href=\"/css/main.css\">\\n  <link rel=\"canonical\" href=\"http://sageelliott.com/scrape/\">\\n  <link rel=\"alternate\" type=\"application/rss+xml\" title=\"Sage Elliott\" href=\"http://sageelliott.com/feed.xml\">\\n  <script src=\"https://code.jquery.com/jquery-2.1.3.min.js\"></script>\\n  <script src=\"/js/bootstrap.min.js\"></script>\\n  <script src=\"/js/script.js\"></script>\\n  <link rel=\"stylesheet\" href=\"/css/bootstrap.min.css\">\\n  <link rel=\"stylesheet\" href=\"/css/bootstrap-theme.min.css\">\\n  <link rel=\"stylesheet\" href=\"/css/style.css\">\\n  <link rel=\"stylesheet\" href=\"/css/responsive.css\">\\n  <link href=\\'https://fonts.googleapis.com/css?family=Pathway+Gothic+One|Alegreya:400italic,700italic,400,700|Alegreya+SC\\' rel=\\'stylesheet\\' type=\\'text/css\\'>\\n  <!-- Global site tag (gtag.js) - Google Analytics -->\\n  <script async src=\"https://www.googletagmanager.com/gtag/js?id=UA-121052385-1\"></script>\\n  <script>\\n    window.dataLayer = window.dataLayer || [];\\n    function gtag(){dataLayer.push(arguments);}\\n    gtag(\\'js\\', new Date());\\n\\n    gtag(\\'config\\', \\'UA-121052385-1\\');\\n  </script>\\n</head>\\n  <link rel=\"icon\" type=\"image/png\" href=\"/img/logoblack.png\">\\n\\n  <body data-spy=\"scroll\", data-target=\".navbar-collapse\">\\n\\n    <header class=\"site-header\">\\n\\n<!--   <div class=\"wrapper\">\\n -->\\n\\n  <!-- Navigation\\n==========================================================================-->\\n\\n<nav class=\"navbar navbar-default navbar-fixed-top\">\\n    <div class=\"container-fluid\">\\n        <!-- Brand and toggle get grouped for better mobile display -->\\n        <div class=\"navbar-header\">\\n            <button type=\"button\" class=\"navbar-toggle collapsed\" data-toggle=\"collapse\" data-target=\"#bs-example-navbar-collapse-1\" aria-expanded=\"false\">\\n                Menu\\n            </button>\\n            <a class=\"logo\" class=\"navbar-brand\" href=\"/\"><img alt=\"Sage Elliott Logo\" src=\"/img/logoblack.png\"> </a>\\n\\n        </div>\\n\\n        <!-- Collect the nav links, forms, and other content for toggling -->\\n        <div class=\"collapse navbar-collapse\" id=\"bs-example-navbar-collapse-1\">\\n            <ul class=\"nav navbar-nav navbar-text\">\\n                <li><a href=\"/\">Sage Elliott</a></li>\\n            </ul>\\n            <ul class=\"nav navbar-nav navbar-right\">\\n                <li><a class=\"page-link\" href=\"/\">About</a></li>\\n                <li><a class=\"page-link\" href=\"/projects\">Projects</a></li>\\n                <li><a class=\"page-link\" href=\"/blog\">Blog</a></li>\\n                <li><a class=\"page-link\" href=\"/speaking\">Speaking</a></li>\\n\\n            </ul>\\n        </div>\\n        <!-- /.navbar-collapse -->\\n    </div>\\n    <!-- /.container-fluid -->\\n</nav>\\n<!-- </div>\\n -->\\n\\n\\n</header>\\n\\n\\n\\n    <div class=\"page-content\">\\n    <div class=\"outer-wrapper\">\\n      <div class=\"wrapper\">\\n        <div class=\"main-content\">\\n<h1>Lots of stuff to try web scraping on!</h1>\\n\\n<p>This page is full of different tags that you will commonly see\\n    out in the wild on the web!</p>\\n\\n<h1>Example headlines</h1>\\n\\n<h2 class=\"headline\">I love this!</h2>\\n<h2 class=\"headline\">I hate this so much!</h2>\\n<h2 class=\"headline\">The dumbest thing happened</h2>\\n<h2 class=\"headline\">This is a great workshop!</h2>\\n<h2 class=\"headline\">This workshop is horrible</h2>\\n<h2 class=\"headline\">I\\'m tired...</h2>\\n<h2 class=\"headline\">This thing is ok...</h2>\\n\\n<h1>Example unordered list</h1>\\n\\n<ul>\\n    <li>Elon Musk is worth $21,000,000,000</li>\\n    <li>Jeff Bezos is worth $137,000,400,000 </li>\\n    <li>Bill Gates is worth $95,000,000,000</li>\\n    <li>Mark Zuckerburg is worth $54,600,000,000</li>\\n</ul>\\n\\n<h1>Example links</h1>\\n\\n<a href=\"https://www.galvanize.com/data-science-prep\">Data Science Free prep</a>\\n<a href=\"http://docs.python-requests.org/en/master/\">Python Requests</a>\\n<a href=\"https://www.crummy.com/software/BeautifulSoup/\">Beautiful Soup</a>\\n<a href=\"https://pandas.pydata.org/\">Pandas</a>\\n<a href=\"https://www.nltk.org/\">NLTK</a>\\n<a href=\"https://scrapy.org/\">Scrapy</a>\\n<a href=\"https://www.anaconda.com/\">Anaconda</a>\\n\\n</div>\\n      </div>\\n    </div>\\n\\n\\n    \\n<section id=\"footer\">\\n            <div class=\"row\">\\n                <div class=\"col-md-12\">\\n                    <p class=\"footerp\">\\n                        <a class=\"logo\" class=\"navbar-brand\" href=\"#top\">Sage Elliott</a>\\n                        <br>\\n                        <a href=\"mailto:hello@sageelliott.com\">hello@SageElliott.com</a>\\n                        <br>\\n                        <a href=\"https://twitter.com/sagecodes\">twitter</a> |\\n                        <a href=\"https://github.com/sagecodes\">github</a> |\\n                        <a href=\"https://www.linkedin.com/in/sageelliott\">linkedin</a>\\n                        <br> &copy; 2018 Sage Elliott\\n                    </p>\\n                </div>\\n            </div>\\n        </section>\\n\\n    </div>\\n\\n  </body>\\n\\n</html>\\n'\n"
     ]
    }
   ],
   "source": [
    "# Lets look at what the request content looks like\n",
    "print(r.content)"
   ]
  },
  {
   "cell_type": "markdown",
   "metadata": {
    "colab_type": "text",
    "id": "qaxIk_fiqTG1"
   },
   "source": [
    "use Beautiful soup on content from requests \n",
    "This will make it much more readble when we print it out and allow us to use more Beautifulsoup functionality"
   ]
  },
  {
   "cell_type": "code",
   "execution_count": 4,
   "metadata": {
    "colab": {},
    "colab_type": "code",
    "id": "e2g1gmvAvnAS"
   },
   "outputs": [],
   "source": [
    "# use Beautifulsoup on content from request\n",
    "c = r.content\n",
    "soup = BeautifulSoup(c)"
   ]
  },
  {
   "cell_type": "code",
   "execution_count": 41,
   "metadata": {},
   "outputs": [
    {
     "data": {
      "text/plain": [
       "['ASCII_SPACES',\n",
       " 'DEFAULT_BUILDER_FEATURES',\n",
       " 'HTML_FORMATTERS',\n",
       " 'NO_PARSER_SPECIFIED_WARNING',\n",
       " 'ROOT_TAG_NAME',\n",
       " 'XML_FORMATTERS',\n",
       " '__bool__',\n",
       " '__call__',\n",
       " '__class__',\n",
       " '__contains__',\n",
       " '__copy__',\n",
       " '__delattr__',\n",
       " '__delitem__',\n",
       " '__dict__',\n",
       " '__dir__',\n",
       " '__doc__',\n",
       " '__eq__',\n",
       " '__format__',\n",
       " '__ge__',\n",
       " '__getattr__',\n",
       " '__getattribute__',\n",
       " '__getitem__',\n",
       " '__getstate__',\n",
       " '__gt__',\n",
       " '__hash__',\n",
       " '__init__',\n",
       " '__init_subclass__',\n",
       " '__iter__',\n",
       " '__le__',\n",
       " '__len__',\n",
       " '__lt__',\n",
       " '__module__',\n",
       " '__ne__',\n",
       " '__new__',\n",
       " '__reduce__',\n",
       " '__reduce_ex__',\n",
       " '__repr__',\n",
       " '__setattr__',\n",
       " '__setitem__',\n",
       " '__sizeof__',\n",
       " '__str__',\n",
       " '__subclasshook__',\n",
       " '__unicode__',\n",
       " '__weakref__',\n",
       " '_all_strings',\n",
       " '_attr_value_as_string',\n",
       " '_attribute_checker',\n",
       " '_check_markup_is_url',\n",
       " '_feed',\n",
       " '_find_all',\n",
       " '_find_one',\n",
       " '_formatter_for_name',\n",
       " '_is_xml',\n",
       " '_lastRecursiveChild',\n",
       " '_last_descendant',\n",
       " '_most_recent_element',\n",
       " '_popToTag',\n",
       " '_select_debug',\n",
       " '_selector_combinators',\n",
       " '_should_pretty_print',\n",
       " '_tag_name_matches_and',\n",
       " 'append',\n",
       " 'attribselect_re',\n",
       " 'attrs',\n",
       " 'builder',\n",
       " 'can_be_empty_element',\n",
       " 'childGenerator',\n",
       " 'children',\n",
       " 'clear',\n",
       " 'contains_replacement_characters',\n",
       " 'contents',\n",
       " 'currentTag',\n",
       " 'current_data',\n",
       " 'declared_html_encoding',\n",
       " 'decode',\n",
       " 'decode_contents',\n",
       " 'decompose',\n",
       " 'descendants',\n",
       " 'encode',\n",
       " 'encode_contents',\n",
       " 'endData',\n",
       " 'extract',\n",
       " 'fetchNextSiblings',\n",
       " 'fetchParents',\n",
       " 'fetchPrevious',\n",
       " 'fetchPreviousSiblings',\n",
       " 'find',\n",
       " 'findAll',\n",
       " 'findAllNext',\n",
       " 'findAllPrevious',\n",
       " 'findChild',\n",
       " 'findChildren',\n",
       " 'findNext',\n",
       " 'findNextSibling',\n",
       " 'findNextSiblings',\n",
       " 'findParent',\n",
       " 'findParents',\n",
       " 'findPrevious',\n",
       " 'findPreviousSibling',\n",
       " 'findPreviousSiblings',\n",
       " 'find_all',\n",
       " 'find_all_next',\n",
       " 'find_all_previous',\n",
       " 'find_next',\n",
       " 'find_next_sibling',\n",
       " 'find_next_siblings',\n",
       " 'find_parent',\n",
       " 'find_parents',\n",
       " 'find_previous',\n",
       " 'find_previous_sibling',\n",
       " 'find_previous_siblings',\n",
       " 'format_string',\n",
       " 'get',\n",
       " 'getText',\n",
       " 'get_attribute_list',\n",
       " 'get_text',\n",
       " 'handle_data',\n",
       " 'handle_endtag',\n",
       " 'handle_starttag',\n",
       " 'has_attr',\n",
       " 'has_key',\n",
       " 'hidden',\n",
       " 'index',\n",
       " 'insert',\n",
       " 'insert_after',\n",
       " 'insert_before',\n",
       " 'isSelfClosing',\n",
       " 'is_empty_element',\n",
       " 'is_xml',\n",
       " 'known_xml',\n",
       " 'markup',\n",
       " 'name',\n",
       " 'namespace',\n",
       " 'new_string',\n",
       " 'new_tag',\n",
       " 'next',\n",
       " 'nextGenerator',\n",
       " 'nextSibling',\n",
       " 'nextSiblingGenerator',\n",
       " 'next_element',\n",
       " 'next_elements',\n",
       " 'next_sibling',\n",
       " 'next_siblings',\n",
       " 'object_was_parsed',\n",
       " 'original_encoding',\n",
       " 'parent',\n",
       " 'parentGenerator',\n",
       " 'parents',\n",
       " 'parse_only',\n",
       " 'parserClass',\n",
       " 'parser_class',\n",
       " 'popTag',\n",
       " 'prefix',\n",
       " 'preserve_whitespace_tag_stack',\n",
       " 'preserve_whitespace_tags',\n",
       " 'prettify',\n",
       " 'previous',\n",
       " 'previousGenerator',\n",
       " 'previousSibling',\n",
       " 'previousSiblingGenerator',\n",
       " 'previous_element',\n",
       " 'previous_elements',\n",
       " 'previous_sibling',\n",
       " 'previous_siblings',\n",
       " 'pushTag',\n",
       " 'quoted_colon',\n",
       " 'recursiveChildGenerator',\n",
       " 'renderContents',\n",
       " 'replaceWith',\n",
       " 'replaceWithChildren',\n",
       " 'replace_with',\n",
       " 'replace_with_children',\n",
       " 'reset',\n",
       " 'select',\n",
       " 'select_one',\n",
       " 'setup',\n",
       " 'string',\n",
       " 'strings',\n",
       " 'stripped_strings',\n",
       " 'tagStack',\n",
       " 'tag_name_re',\n",
       " 'text',\n",
       " 'unwrap',\n",
       " 'wrap']"
      ]
     },
     "execution_count": 41,
     "metadata": {},
     "output_type": "execute_result"
    }
   ],
   "source": [
    "dir(soup)"
   ]
  },
  {
   "cell_type": "code",
   "execution_count": 5,
   "metadata": {
    "colab": {
     "base_uri": "https://localhost:8080/",
     "height": 2058
    },
    "colab_type": "code",
    "id": "mArM7Ee5v72j",
    "outputId": "c92ce7ea-2017-4202-c897-9efc45013878"
   },
   "outputs": [
    {
     "name": "stdout",
     "output_type": "stream",
     "text": [
      "<!DOCTYPE html>\n",
      "<html>\n",
      "<head>\n",
      "<meta charset=\"utf-8\"/>\n",
      "<meta content=\"IE=edge\" http-equiv=\"X-UA-Compatible\"/>\n",
      "<meta content=\"width=device-width, initial-scale=1\" name=\"viewport\"/>\n",
      "<title>Web Scraping | Sage Elliott</title>\n",
      "<meta content=\"I make things.\" name=\"description\"/>\n",
      "<link href=\"/css/main.css\" rel=\"stylesheet\"/>\n",
      "<link href=\"http://sageelliott.com/scrape/\" rel=\"canonical\"/>\n",
      "<link href=\"http://sageelliott.com/feed.xml\" rel=\"alternate\" title=\"Sage Elliott\" type=\"application/rss+xml\"/>\n",
      "<script src=\"https://code.jquery.com/jquery-2.1.3.min.js\"></script>\n",
      "<script src=\"/js/bootstrap.min.js\"></script>\n",
      "<script src=\"/js/script.js\"></script>\n",
      "<link href=\"/css/bootstrap.min.css\" rel=\"stylesheet\"/>\n",
      "<link href=\"/css/bootstrap-theme.min.css\" rel=\"stylesheet\"/>\n",
      "<link href=\"/css/style.css\" rel=\"stylesheet\"/>\n",
      "<link href=\"/css/responsive.css\" rel=\"stylesheet\"/>\n",
      "<link href=\"https://fonts.googleapis.com/css?family=Pathway+Gothic+One|Alegreya:400italic,700italic,400,700|Alegreya+SC\" rel=\"stylesheet\" type=\"text/css\"/>\n",
      "<!-- Global site tag (gtag.js) - Google Analytics -->\n",
      "<script async=\"\" src=\"https://www.googletagmanager.com/gtag/js?id=UA-121052385-1\"></script>\n",
      "<script>\n",
      "    window.dataLayer = window.dataLayer || [];\n",
      "    function gtag(){dataLayer.push(arguments);}\n",
      "    gtag('js', new Date());\n",
      "\n",
      "    gtag('config', 'UA-121052385-1');\n",
      "  </script>\n",
      "</head>\n",
      "<link href=\"/img/logoblack.png\" rel=\"icon\" type=\"image/png\"/>\n",
      "<body data-spy=\"scroll\" data-target=\".navbar-collapse\">\n",
      "<header class=\"site-header\">\n",
      "<!--   <div class=\"wrapper\">\n",
      " -->\n",
      "<!-- Navigation\n",
      "==========================================================================-->\n",
      "<nav class=\"navbar navbar-default navbar-fixed-top\">\n",
      "<div class=\"container-fluid\">\n",
      "<!-- Brand and toggle get grouped for better mobile display -->\n",
      "<div class=\"navbar-header\">\n",
      "<button aria-expanded=\"false\" class=\"navbar-toggle collapsed\" data-target=\"#bs-example-navbar-collapse-1\" data-toggle=\"collapse\" type=\"button\">\n",
      "                Menu\n",
      "            </button>\n",
      "<a class=\"logo\" href=\"/\"><img alt=\"Sage Elliott Logo\" src=\"/img/logoblack.png\"/> </a>\n",
      "</div>\n",
      "<!-- Collect the nav links, forms, and other content for toggling -->\n",
      "<div class=\"collapse navbar-collapse\" id=\"bs-example-navbar-collapse-1\">\n",
      "<ul class=\"nav navbar-nav navbar-text\">\n",
      "<li><a href=\"/\">Sage Elliott</a></li>\n",
      "</ul>\n",
      "<ul class=\"nav navbar-nav navbar-right\">\n",
      "<li><a class=\"page-link\" href=\"/\">About</a></li>\n",
      "<li><a class=\"page-link\" href=\"/projects\">Projects</a></li>\n",
      "<li><a class=\"page-link\" href=\"/blog\">Blog</a></li>\n",
      "<li><a class=\"page-link\" href=\"/speaking\">Speaking</a></li>\n",
      "</ul>\n",
      "</div>\n",
      "<!-- /.navbar-collapse -->\n",
      "</div>\n",
      "<!-- /.container-fluid -->\n",
      "</nav>\n",
      "<!-- </div>\n",
      " -->\n",
      "</header>\n",
      "<div class=\"page-content\">\n",
      "<div class=\"outer-wrapper\">\n",
      "<div class=\"wrapper\">\n",
      "<div class=\"main-content\">\n",
      "<h1>Lots of stuff to try web scraping on!</h1>\n",
      "<p>This page is full of different tags that you will commonly see\n",
      "    out in the wild on the web!</p>\n",
      "<h1>Example headlines</h1>\n",
      "<h2 class=\"headline\">I love this!</h2>\n",
      "<h2 class=\"headline\">I hate this so much!</h2>\n",
      "<h2 class=\"headline\">The dumbest thing happened</h2>\n",
      "<h2 class=\"headline\">This is a great workshop!</h2>\n",
      "<h2 class=\"headline\">This workshop is horrible</h2>\n",
      "<h2 class=\"headline\">I'm tired...</h2>\n",
      "<h2 class=\"headline\">This thing is ok...</h2>\n",
      "<h1>Example unordered list</h1>\n",
      "<ul>\n",
      "<li>Elon Musk is worth $21,000,000,000</li>\n",
      "<li>Jeff Bezos is worth $137,000,400,000 </li>\n",
      "<li>Bill Gates is worth $95,000,000,000</li>\n",
      "<li>Mark Zuckerburg is worth $54,600,000,000</li>\n",
      "</ul>\n",
      "<h1>Example links</h1>\n",
      "<a href=\"https://www.galvanize.com/data-science-prep\">Data Science Free prep</a>\n",
      "<a href=\"http://docs.python-requests.org/en/master/\">Python Requests</a>\n",
      "<a href=\"https://www.crummy.com/software/BeautifulSoup/\">Beautiful Soup</a>\n",
      "<a href=\"https://pandas.pydata.org/\">Pandas</a>\n",
      "<a href=\"https://www.nltk.org/\">NLTK</a>\n",
      "<a href=\"https://scrapy.org/\">Scrapy</a>\n",
      "<a href=\"https://www.anaconda.com/\">Anaconda</a>\n",
      "</div>\n",
      "</div>\n",
      "</div>\n",
      "<section id=\"footer\">\n",
      "<div class=\"row\">\n",
      "<div class=\"col-md-12\">\n",
      "<p class=\"footerp\">\n",
      "<a class=\"logo\" href=\"#top\">Sage Elliott</a>\n",
      "<br/>\n",
      "<a href=\"mailto:hello@sageelliott.com\">hello@SageElliott.com</a>\n",
      "<br/>\n",
      "<a href=\"https://twitter.com/sagecodes\">twitter</a> |\n",
      "                        <a href=\"https://github.com/sagecodes\">github</a> |\n",
      "                        <a href=\"https://www.linkedin.com/in/sageelliott\">linkedin</a>\n",
      "<br/> © 2018 Sage Elliott\n",
      "                    </p>\n",
      "</div>\n",
      "</div>\n",
      "</section>\n",
      "</div>\n",
      "</body>\n",
      "</html>\n",
      "\n"
     ]
    }
   ],
   "source": [
    "# Look at the content formatted with Beautifulsoup\n",
    "print(soup)"
   ]
  },
  {
   "cell_type": "code",
   "execution_count": 6,
   "metadata": {
    "colab": {
     "base_uri": "https://localhost:8080/",
     "height": 3561
    },
    "colab_type": "code",
    "id": "7gUqKWNTcycX",
    "outputId": "d807087a-f51d-4c28-f462-627060a00464"
   },
   "outputs": [
    {
     "name": "stdout",
     "output_type": "stream",
     "text": [
      "<!DOCTYPE html>\n",
      "<html>\n",
      " <head>\n",
      "  <meta charset=\"utf-8\"/>\n",
      "  <meta content=\"IE=edge\" http-equiv=\"X-UA-Compatible\"/>\n",
      "  <meta content=\"width=device-width, initial-scale=1\" name=\"viewport\"/>\n",
      "  <title>\n",
      "   Web Scraping | Sage Elliott\n",
      "  </title>\n",
      "  <meta content=\"I make things.\" name=\"description\"/>\n",
      "  <link href=\"/css/main.css\" rel=\"stylesheet\"/>\n",
      "  <link href=\"http://sageelliott.com/scrape/\" rel=\"canonical\"/>\n",
      "  <link href=\"http://sageelliott.com/feed.xml\" rel=\"alternate\" title=\"Sage Elliott\" type=\"application/rss+xml\"/>\n",
      "  <script src=\"https://code.jquery.com/jquery-2.1.3.min.js\">\n",
      "  </script>\n",
      "  <script src=\"/js/bootstrap.min.js\">\n",
      "  </script>\n",
      "  <script src=\"/js/script.js\">\n",
      "  </script>\n",
      "  <link href=\"/css/bootstrap.min.css\" rel=\"stylesheet\"/>\n",
      "  <link href=\"/css/bootstrap-theme.min.css\" rel=\"stylesheet\"/>\n",
      "  <link href=\"/css/style.css\" rel=\"stylesheet\"/>\n",
      "  <link href=\"/css/responsive.css\" rel=\"stylesheet\"/>\n",
      "  <link href=\"https://fonts.googleapis.com/css?family=Pathway+Gothic+One|Alegreya:400italic,700italic,400,700|Alegreya+SC\" rel=\"stylesheet\" type=\"text/css\"/>\n",
      "  <!-- Global site tag (gtag.js) - Google Analytics -->\n",
      "  <script async=\"\" src=\"https://www.googletagmanager.com/gtag/js?id=UA-121052385-1\">\n",
      "  </script>\n",
      "  <script>\n",
      "   window.dataLayer = window.dataLayer || [];\n",
      "    function gtag(){dataLayer.push(arguments);}\n",
      "    gtag('js', new Date());\n",
      "\n",
      "    gtag('config', 'UA-121052385-1');\n",
      "  </script>\n",
      " </head>\n",
      " <link href=\"/img/logoblack.png\" rel=\"icon\" type=\"image/png\"/>\n",
      " <body data-spy=\"scroll\" data-target=\".navbar-collapse\">\n",
      "  <header class=\"site-header\">\n",
      "   <!--   <div class=\"wrapper\">\n",
      " -->\n",
      "   <!-- Navigation\n",
      "==========================================================================-->\n",
      "   <nav class=\"navbar navbar-default navbar-fixed-top\">\n",
      "    <div class=\"container-fluid\">\n",
      "     <!-- Brand and toggle get grouped for better mobile display -->\n",
      "     <div class=\"navbar-header\">\n",
      "      <button aria-expanded=\"false\" class=\"navbar-toggle collapsed\" data-target=\"#bs-example-navbar-collapse-1\" data-toggle=\"collapse\" type=\"button\">\n",
      "       Menu\n",
      "      </button>\n",
      "      <a class=\"logo\" href=\"/\">\n",
      "       <img alt=\"Sage Elliott Logo\" src=\"/img/logoblack.png\"/>\n",
      "      </a>\n",
      "     </div>\n",
      "     <!-- Collect the nav links, forms, and other content for toggling -->\n",
      "     <div class=\"collapse navbar-collapse\" id=\"bs-example-navbar-collapse-1\">\n",
      "      <ul class=\"nav navbar-nav navbar-text\">\n",
      "       <li>\n",
      "        <a href=\"/\">\n",
      "         Sage Elliott\n",
      "        </a>\n",
      "       </li>\n",
      "      </ul>\n",
      "      <ul class=\"nav navbar-nav navbar-right\">\n",
      "       <li>\n",
      "        <a class=\"page-link\" href=\"/\">\n",
      "         About\n",
      "        </a>\n",
      "       </li>\n",
      "       <li>\n",
      "        <a class=\"page-link\" href=\"/projects\">\n",
      "         Projects\n",
      "        </a>\n",
      "       </li>\n",
      "       <li>\n",
      "        <a class=\"page-link\" href=\"/blog\">\n",
      "         Blog\n",
      "        </a>\n",
      "       </li>\n",
      "       <li>\n",
      "        <a class=\"page-link\" href=\"/speaking\">\n",
      "         Speaking\n",
      "        </a>\n",
      "       </li>\n",
      "      </ul>\n",
      "     </div>\n",
      "     <!-- /.navbar-collapse -->\n",
      "    </div>\n",
      "    <!-- /.container-fluid -->\n",
      "   </nav>\n",
      "   <!-- </div>\n",
      " -->\n",
      "  </header>\n",
      "  <div class=\"page-content\">\n",
      "   <div class=\"outer-wrapper\">\n",
      "    <div class=\"wrapper\">\n",
      "     <div class=\"main-content\">\n",
      "      <h1>\n",
      "       Lots of stuff to try web scraping on!\n",
      "      </h1>\n",
      "      <p>\n",
      "       This page is full of different tags that you will commonly see\n",
      "    out in the wild on the web!\n",
      "      </p>\n",
      "      <h1>\n",
      "       Example headlines\n",
      "      </h1>\n",
      "      <h2 class=\"headline\">\n",
      "       I love this!\n",
      "      </h2>\n",
      "      <h2 class=\"headline\">\n",
      "       I hate this so much!\n",
      "      </h2>\n",
      "      <h2 class=\"headline\">\n",
      "       The dumbest thing happened\n",
      "      </h2>\n",
      "      <h2 class=\"headline\">\n",
      "       This is a great workshop!\n",
      "      </h2>\n",
      "      <h2 class=\"headline\">\n",
      "       This workshop is horrible\n",
      "      </h2>\n",
      "      <h2 class=\"headline\">\n",
      "       I'm tired...\n",
      "      </h2>\n",
      "      <h2 class=\"headline\">\n",
      "       This thing is ok...\n",
      "      </h2>\n",
      "      <h1>\n",
      "       Example unordered list\n",
      "      </h1>\n",
      "      <ul>\n",
      "       <li>\n",
      "        Elon Musk is worth $21,000,000,000\n",
      "       </li>\n",
      "       <li>\n",
      "        Jeff Bezos is worth $137,000,400,000\n",
      "       </li>\n",
      "       <li>\n",
      "        Bill Gates is worth $95,000,000,000\n",
      "       </li>\n",
      "       <li>\n",
      "        Mark Zuckerburg is worth $54,600,000,000\n",
      "       </li>\n",
      "      </ul>\n",
      "      <h1>\n",
      "       Example links\n",
      "      </h1>\n",
      "      <a href=\"https://www.galvanize.com/data-science-prep\">\n",
      "       Data Science Free prep\n",
      "      </a>\n",
      "      <a href=\"http://docs.python-requests.org/en/master/\">\n",
      "       Python Requests\n",
      "      </a>\n",
      "      <a href=\"https://www.crummy.com/software/BeautifulSoup/\">\n",
      "       Beautiful Soup\n",
      "      </a>\n",
      "      <a href=\"https://pandas.pydata.org/\">\n",
      "       Pandas\n",
      "      </a>\n",
      "      <a href=\"https://www.nltk.org/\">\n",
      "       NLTK\n",
      "      </a>\n",
      "      <a href=\"https://scrapy.org/\">\n",
      "       Scrapy\n",
      "      </a>\n",
      "      <a href=\"https://www.anaconda.com/\">\n",
      "       Anaconda\n",
      "      </a>\n",
      "     </div>\n",
      "    </div>\n",
      "   </div>\n",
      "   <section id=\"footer\">\n",
      "    <div class=\"row\">\n",
      "     <div class=\"col-md-12\">\n",
      "      <p class=\"footerp\">\n",
      "       <a class=\"logo\" href=\"#top\">\n",
      "        Sage Elliott\n",
      "       </a>\n",
      "       <br/>\n",
      "       <a href=\"mailto:hello@sageelliott.com\">\n",
      "        hello@SageElliott.com\n",
      "       </a>\n",
      "       <br/>\n",
      "       <a href=\"https://twitter.com/sagecodes\">\n",
      "        twitter\n",
      "       </a>\n",
      "       |\n",
      "       <a href=\"https://github.com/sagecodes\">\n",
      "        github\n",
      "       </a>\n",
      "       |\n",
      "       <a href=\"https://www.linkedin.com/in/sageelliott\">\n",
      "        linkedin\n",
      "       </a>\n",
      "       <br/>\n",
      "       © 2018 Sage Elliott\n",
      "      </p>\n",
      "     </div>\n",
      "    </div>\n",
      "   </section>\n",
      "  </div>\n",
      " </body>\n",
      "</html>\n",
      "\n"
     ]
    }
   ],
   "source": [
    "# using prettify() in Beautiful soup indents HTML like it should be in the web page\n",
    "# This can make reading the HTML a little bit easier.\n",
    "print(soup.prettify())"
   ]
  },
  {
   "cell_type": "markdown",
   "metadata": {
    "colab_type": "text",
    "id": "vjuRzBSzqruq"
   },
   "source": [
    "Often the content that you want to scrape will be inside a tag like `div` or similar element. \n",
    "In this case when we look at our HTML we see that the actual content of the page is inside of a `div` with a class of `main-content`. \n",
    "\n",
    "Lets grab all the content inside that `div` and save it to a variable. "
   ]
  },
  {
   "cell_type": "code",
   "execution_count": 7,
   "metadata": {
    "colab": {
     "base_uri": "https://localhost:8080/",
     "height": 501
    },
    "colab_type": "code",
    "id": "vmHYMk3jFPZE",
    "outputId": "53a959fc-adc1-45fc-bb5f-ac84214225e1"
   },
   "outputs": [
    {
     "name": "stdout",
     "output_type": "stream",
     "text": [
      "<div class=\"main-content\">\n",
      "<h1>Lots of stuff to try web scraping on!</h1>\n",
      "<p>This page is full of different tags that you will commonly see\n",
      "    out in the wild on the web!</p>\n",
      "<h1>Example headlines</h1>\n",
      "<h2 class=\"headline\">I love this!</h2>\n",
      "<h2 class=\"headline\">I hate this so much!</h2>\n",
      "<h2 class=\"headline\">The dumbest thing happened</h2>\n",
      "<h2 class=\"headline\">This is a great workshop!</h2>\n",
      "<h2 class=\"headline\">This workshop is horrible</h2>\n",
      "<h2 class=\"headline\">I'm tired...</h2>\n",
      "<h2 class=\"headline\">This thing is ok...</h2>\n",
      "<h1>Example unordered list</h1>\n",
      "<ul>\n",
      "<li>Elon Musk is worth $21,000,000,000</li>\n",
      "<li>Jeff Bezos is worth $137,000,400,000 </li>\n",
      "<li>Bill Gates is worth $95,000,000,000</li>\n",
      "<li>Mark Zuckerburg is worth $54,600,000,000</li>\n",
      "</ul>\n",
      "<h1>Example links</h1>\n",
      "<a href=\"https://www.galvanize.com/data-science-prep\">Data Science Free prep</a>\n",
      "<a href=\"http://docs.python-requests.org/en/master/\">Python Requests</a>\n",
      "<a href=\"https://www.crummy.com/software/BeautifulSoup/\">Beautiful Soup</a>\n",
      "<a href=\"https://pandas.pydata.org/\">Pandas</a>\n",
      "<a href=\"https://www.nltk.org/\">NLTK</a>\n",
      "<a href=\"https://scrapy.org/\">Scrapy</a>\n",
      "<a href=\"https://www.anaconda.com/\">Anaconda</a>\n",
      "</div>\n"
     ]
    }
   ],
   "source": [
    "# get elements within the 'main-content' tag\n",
    "main_content = soup.find('div', attrs = {'class': 'main-content'})\n",
    "print(main_content)"
   ]
  },
  {
   "cell_type": "markdown",
   "metadata": {
    "colab_type": "text",
    "id": "hI7xt49WrW94"
   },
   "source": [
    "Lets drill deeper down into our content and look at different ways of selecting elements within our main-content div.\n",
    "\n",
    "We want to get just our items inside of the list"
   ]
  },
  {
   "cell_type": "code",
   "execution_count": 8,
   "metadata": {
    "colab": {
     "base_uri": "https://localhost:8080/",
     "height": 121
    },
    "colab_type": "code",
    "id": "hsLCOzoYdwBZ",
    "outputId": "a9269c30-549a-44c0-c084-0c7b50f1d20f"
   },
   "outputs": [
    {
     "name": "stdout",
     "output_type": "stream",
     "text": [
      "<ul>\n",
      "<li>Elon Musk is worth $21,000,000,000</li>\n",
      "<li>Jeff Bezos is worth $137,000,400,000 </li>\n",
      "<li>Bill Gates is worth $95,000,000,000</li>\n",
      "<li>Mark Zuckerburg is worth $54,600,000,000</li>\n",
      "</ul>\n"
     ]
    }
   ],
   "source": [
    "# get the list items inside of a unordered list\n",
    "content = main_content.find('ul')\n",
    "\n",
    "print(content)"
   ]
  },
  {
   "cell_type": "markdown",
   "metadata": {
    "colab_type": "text",
    "id": "DfUwHBJTrtG9"
   },
   "source": [
    "I'm going to be using examples like the above for most of this workshop, but I want to show that you could also chain the elements like the example below:"
   ]
  },
  {
   "cell_type": "code",
   "execution_count": 9,
   "metadata": {
    "colab": {
     "base_uri": "https://localhost:8080/",
     "height": 121
    },
    "colab_type": "code",
    "id": "TWP1Q7O9r9Nl",
    "outputId": "94e08494-2bd4-478e-d205-2e11e541c460"
   },
   "outputs": [
    {
     "name": "stdout",
     "output_type": "stream",
     "text": [
      "<ul>\n",
      "<li>Elon Musk is worth $21,000,000,000</li>\n",
      "<li>Jeff Bezos is worth $137,000,400,000 </li>\n",
      "<li>Bill Gates is worth $95,000,000,000</li>\n",
      "<li>Mark Zuckerburg is worth $54,600,000,000</li>\n",
      "</ul>\n"
     ]
    }
   ],
   "source": [
    "# get elements within the 'main-content' tag\n",
    "list_content = soup.find('div', attrs = {'class': 'main-content'}).ul\n",
    "print(list_content)\n"
   ]
  },
  {
   "cell_type": "markdown",
   "metadata": {
    "colab_type": "text",
    "id": "6SlsY630sATq"
   },
   "source": [
    "In the example above we still have all the HTML tags. \n",
    "Often you wont want the tags and you'll just be interested in the text between them.\n",
    "\n",
    "We can get the text between them using `.text` method from beautiful soup"
   ]
  },
  {
   "cell_type": "code",
   "execution_count": 10,
   "metadata": {
    "colab": {
     "base_uri": "https://localhost:8080/",
     "height": 121
    },
    "colab_type": "code",
    "id": "QpmXn3PFsa5Q",
    "outputId": "d9184266-0345-4ffb-f01b-1b2ebf7ef96c"
   },
   "outputs": [
    {
     "name": "stdout",
     "output_type": "stream",
     "text": [
      "\n",
      "Elon Musk is worth $21,000,000,000\n",
      "Jeff Bezos is worth $137,000,400,000 \n",
      "Bill Gates is worth $95,000,000,000\n",
      "Mark Zuckerburg is worth $54,600,000,000\n",
      "\n"
     ]
    }
   ],
   "source": [
    "# get the list items inside of a unorded list\n",
    "list_text_content = main_content.find('ul').text\n",
    "\n",
    "print(list_text_content)"
   ]
  },
  {
   "cell_type": "markdown",
   "metadata": {
    "colab_type": "text",
    "id": "owsuv5r5twSQ"
   },
   "source": [
    "Lets get the headline elements\n",
    "\n",
    "When we look at the HTML we can see that they all have `h2` tags. \n"
   ]
  },
  {
   "cell_type": "code",
   "execution_count": 11,
   "metadata": {
    "colab": {
     "base_uri": "https://localhost:8080/",
     "height": 35
    },
    "colab_type": "code",
    "id": "N_cECgWQtwlk",
    "outputId": "70746590-dd40-4ebd-e43d-1c8216203bc0"
   },
   "outputs": [
    {
     "name": "stdout",
     "output_type": "stream",
     "text": [
      "I love this!\n"
     ]
    }
   ],
   "source": [
    "# Try to get h2 elements\n",
    "content = main_content.find('h2').text\n",
    "\n",
    "print(content)"
   ]
  },
  {
   "cell_type": "markdown",
   "metadata": {
    "colab_type": "text",
    "id": "5XbD-OTNtw9N"
   },
   "source": [
    "Oh no! It looks like when using `.find()` it only returns the first matching element on the page.\n",
    "\n",
    "We can get all the matching elements by using the`.find_all()` method"
   ]
  },
  {
   "cell_type": "code",
   "execution_count": 12,
   "metadata": {
    "colab": {
     "base_uri": "https://localhost:8080/",
     "height": 55
    },
    "colab_type": "code",
    "id": "zmzxTDOeefmN",
    "outputId": "e9473b26-100d-4100-cba1-3e0f66d86554"
   },
   "outputs": [
    {
     "name": "stdout",
     "output_type": "stream",
     "text": [
      "[<h2 class=\"headline\">I love this!</h2>, <h2 class=\"headline\">I hate this so much!</h2>, <h2 class=\"headline\">The dumbest thing happened</h2>, <h2 class=\"headline\">This is a great workshop!</h2>, <h2 class=\"headline\">This workshop is horrible</h2>, <h2 class=\"headline\">I'm tired...</h2>, <h2 class=\"headline\">This thing is ok...</h2>]\n"
     ]
    }
   ],
   "source": [
    "# get all the h2s on the page and display each one\n",
    "content = main_content.find_all('h2')\n",
    "\n",
    "print(content)\n"
   ]
  },
  {
   "cell_type": "markdown",
   "metadata": {
    "colab_type": "text",
    "id": "gWLelycXwlHk"
   },
   "source": [
    "Notice when we print out content above it have the HTML h2 elements seperated by commas inside brackets []. This is called a `list`. Its ofen used to store multiple values in. \n",
    "\n",
    "Lists are iterable, and we can go through each item inside to print them out\n",
    "\n"
   ]
  },
  {
   "cell_type": "code",
   "execution_count": 13,
   "metadata": {
    "colab": {
     "base_uri": "https://localhost:8080/",
     "height": 138
    },
    "colab_type": "code",
    "id": "97Rv0YsJwlUL",
    "outputId": "28147488-2711-401a-8946-13508e16656d"
   },
   "outputs": [
    {
     "name": "stdout",
     "output_type": "stream",
     "text": [
      "I love this!\n",
      "I hate this so much!\n",
      "The dumbest thing happened\n",
      "This is a great workshop!\n",
      "This workshop is horrible\n",
      "I'm tired...\n",
      "This thing is ok...\n"
     ]
    }
   ],
   "source": [
    "# Iterate content list and print out text inside each h2 element\n",
    "\n",
    "for h2 in content:\n",
    "    print(h2.text)\n",
    "print(\"loop done\")"
   ]
  },
  {
   "cell_type": "markdown",
   "metadata": {
    "colab_type": "text",
    "id": "DBWcxH6saZph"
   },
   "source": [
    "Here we look at an example of finding all the links.\n",
    "\n",
    "We then pring out the link text and the URL(href)"
   ]
  },
  {
   "cell_type": "code",
   "execution_count": 14,
   "metadata": {
    "colab": {
     "base_uri": "https://localhost:8080/",
     "height": 259
    },
    "colab_type": "code",
    "id": "BZKMO-7bg7Ol",
    "outputId": "5f08eb23-cc49-4d1e-e97f-7f9f8ed078a5"
   },
   "outputs": [
    {
     "name": "stdout",
     "output_type": "stream",
     "text": [
      "Data Science Free prep:\n",
      "https://www.galvanize.com/data-science-prep\n",
      "Python Requests:\n",
      "http://docs.python-requests.org/en/master/\n",
      "Beautiful Soup:\n",
      "https://www.crummy.com/software/BeautifulSoup/\n",
      "Pandas:\n",
      "https://pandas.pydata.org/\n",
      "NLTK:\n",
      "https://www.nltk.org/\n",
      "Scrapy:\n",
      "https://scrapy.org/\n",
      "Anaconda:\n",
      "https://www.anaconda.com/\n"
     ]
    }
   ],
   "source": [
    "# Get all links(a) in the main_content div. \n",
    "# for each link in list print link text and the link URL(href)\n",
    "\n",
    "content = main_content.find_all('a')\n",
    "\n",
    "for link in content:\n",
    "    print(link.text+\":\")\n",
    "    print(link['href'])\n"
   ]
  },
  {
   "cell_type": "markdown",
   "metadata": {
    "colab_type": "text",
    "id": "qV0x2bkkvLm8"
   },
   "source": [
    "# Data Cleaning / reformatting"
   ]
  },
  {
   "cell_type": "markdown",
   "metadata": {
    "colab_type": "text",
    "id": "kw9Q7nXljKaP"
   },
   "source": [
    "Now that we have used some ways to get data lets do some data cleaning with [Regex](https://regexr.com/). regex allows us to search for patterns in data types. It's super powerful, but can feel very complicated when starting out. I'm not going to go too deep into Regex, but I encourage you to learn more about it on your own!\n",
    "\n",
    "Lets look at our list items again"
   ]
  },
  {
   "cell_type": "code",
   "execution_count": 15,
   "metadata": {
    "colab": {
     "base_uri": "https://localhost:8080/",
     "height": 121
    },
    "colab_type": "code",
    "id": "8u6YKX5vjcPK",
    "outputId": "c26a1a51-c1c5-4930-b7f8-5fdef8315d19"
   },
   "outputs": [
    {
     "name": "stdout",
     "output_type": "stream",
     "text": [
      "\n",
      "Elon Musk is worth $21,000,000,000\n",
      "Jeff Bezos is worth $137,000,400,000 \n",
      "Bill Gates is worth $95,000,000,000\n",
      "Mark Zuckerburg is worth $54,600,000,000\n",
      "\n"
     ]
    }
   ],
   "source": [
    "# get the list items inside of a unorded list\n",
    "list_text_content = main_content.find('ul').text\n",
    "\n",
    "print(list_text_content)"
   ]
  },
  {
   "cell_type": "markdown",
   "metadata": {
    "colab_type": "text",
    "id": "JOaRCEq2jdIX"
   },
   "source": [
    "Our list items are all text. But what if we want to get just the numbers do we can do numerical operations on them?"
   ]
  },
  {
   "cell_type": "code",
   "execution_count": 16,
   "metadata": {
    "colab": {},
    "colab_type": "code",
    "id": "MiWhO_UB189o"
   },
   "outputs": [],
   "source": [
    "# import Regex\n",
    "import re"
   ]
  },
  {
   "cell_type": "code",
   "execution_count": 17,
   "metadata": {
    "colab": {
     "base_uri": "https://localhost:8080/",
     "height": 35
    },
    "colab_type": "code",
    "id": "NU4bRQ881wbI",
    "outputId": "5b94b3f1-2bc5-4146-f8d2-e15dd66bd0c6"
   },
   "outputs": [
    {
     "name": "stdout",
     "output_type": "stream",
     "text": [
      "['$21,000,000,000', '$137,000,400,000 ', '$95,000,000,000', '$54,600,000,000']\n"
     ]
    }
   ],
   "source": [
    "# Pattern to match the salaries | does this line start with a dollar sign?\n",
    "salary_pattern = re.compile(r'\\$.+')\n",
    "salaries = salary_pattern.findall(list_text_content)\n",
    "\n",
    "print(salaries)"
   ]
  },
  {
   "cell_type": "markdown",
   "metadata": {
    "colab_type": "text",
    "id": "rM44_A_93b5L"
   },
   "source": [
    "This is great! We now have a list of the salaries, but there is still a problem if we want to do any numerical opporations or visualizations on it.\n",
    "\n",
    "They are still strings!"
   ]
  },
  {
   "cell_type": "code",
   "execution_count": 18,
   "metadata": {
    "colab": {
     "base_uri": "https://localhost:8080/",
     "height": 35
    },
    "colab_type": "code",
    "id": "tLdEMLIA2CoN",
    "outputId": "0030a537-0cf9-41da-cb0e-3b95db94fbfc"
   },
   "outputs": [
    {
     "data": {
      "text/plain": [
       "[21000000000, 137000400000, 95000000000, 54600000000]"
      ]
     },
     "execution_count": 18,
     "metadata": {},
     "output_type": "execute_result"
    }
   ],
   "source": [
    "# Convert to numbers \n",
    "num_salaries = [int(''.join(s[1:].split(','))) for s in salaries]\n",
    "\n",
    "num_salaries\n"
   ]
  },
  {
   "cell_type": "markdown",
   "metadata": {
    "colab_type": "text",
    "id": "bsa_88FZKlPM"
   },
   "source": [
    "Lets do something useful with those numbers that we couldn't do if they were still text.\n",
    "\n",
    "We'll get the sum of all to see what the combined networth is:"
   ]
  },
  {
   "cell_type": "code",
   "execution_count": 19,
   "metadata": {
    "colab": {
     "base_uri": "https://localhost:8080/",
     "height": 35
    },
    "colab_type": "code",
    "id": "l_ziszvy2HmV",
    "outputId": "84262e92-7f2d-44f9-abab-c2073d6a9988"
   },
   "outputs": [
    {
     "name": "stdout",
     "output_type": "stream",
     "text": [
      "307600400000\n"
     ]
    }
   ],
   "source": [
    "# combined networth\n",
    "combined_worth = sum(num_salaries)\n",
    "\n",
    "print(combined_worth)\n",
    "\n"
   ]
  },
  {
   "cell_type": "markdown",
   "metadata": {
    "colab_type": "text",
    "id": "hrucZIMzK3AB"
   },
   "source": [
    "Awesome it worked! Lets go ahead and make it a little more readable to our human eyes"
   ]
  },
  {
   "cell_type": "code",
   "execution_count": 20,
   "metadata": {
    "colab": {
     "base_uri": "https://localhost:8080/",
     "height": 35
    },
    "colab_type": "code",
    "id": "42uRHbZU7ECN",
    "outputId": "49716835-5252-42e7-b2d7-6317fd32e8b4"
   },
   "outputs": [
    {
     "name": "stdout",
     "output_type": "stream",
     "text": [
      "Combined worth is: $307,600,400,000\n"
     ]
    }
   ],
   "source": [
    "print (\"Combined worth is: ${:,}\".format(combined_worth))"
   ]
  },
  {
   "cell_type": "markdown",
   "metadata": {
    "colab_type": "text",
    "id": "FnWLaBnrLC5C"
   },
   "source": [
    "Not bad! But we can do even better, that is a lot of decimals"
   ]
  },
  {
   "cell_type": "code",
   "execution_count": 21,
   "metadata": {
    "colab": {
     "base_uri": "https://localhost:8080/",
     "height": 35
    },
    "colab_type": "code",
    "id": "VHtRkjQuJc3i",
    "outputId": "404ea887-8846-492e-9775-a1902121f3fa"
   },
   "outputs": [
    {
     "name": "stdout",
     "output_type": "stream",
     "text": [
      "Combined worth is: $307.60 billion\n"
     ]
    }
   ],
   "source": [
    "# Even More readable format\n",
    "worth_billions = float(combined_worth /1000000000)\n",
    "\n",
    "print (\"Combined worth is: ${:.2f} billion\".format(worth_billions))"
   ]
  },
  {
   "cell_type": "markdown",
   "metadata": {
    "colab_type": "text",
    "id": "jnQ4eqqY2d8D"
   },
   "source": [
    "Cool! Now lets also get the list of names from the list\n",
    "\n",
    "We know that they are characters beginning on the line and the end before the word \"is\". \n",
    "\n",
    "Again, I'm not going to go deep into [Regex](https://regexr.com/) but learn more about it [here](https://regexr.com/)!\n",
    "\n"
   ]
  },
  {
   "cell_type": "code",
   "execution_count": 22,
   "metadata": {
    "colab": {
     "base_uri": "https://localhost:8080/",
     "height": 35
    },
    "colab_type": "code",
    "id": "1XDcZHMvjkGq",
    "outputId": "3202823b-2f56-4a38-fccf-7df53c8a7080"
   },
   "outputs": [
    {
     "name": "stdout",
     "output_type": "stream",
     "text": [
      "['Elon Musk ', 'Jeff Bezos ', 'Bill Gates ', 'Mark Zuckerburg ']\n"
     ]
    }
   ],
   "source": [
    "# Create a pattern to match the names\n",
    "name_pattern = re.compile(r'^([A-Z]{1}.+?)(?:is)', flags = re.M)\n",
    "names = name_pattern.findall(list_text_content)\n",
    "\n",
    "print(names)"
   ]
  },
  {
   "cell_type": "markdown",
   "metadata": {
    "colab_type": "text",
    "id": "G3B21YQWLqdl"
   },
   "source": [
    "We now have a list of Names(text) and a list of Salaries(numbers)\n",
    "\n",
    "We want to put these together in various ways to help us look at the data.\n",
    "\n",
    "This is where [pandas](https://pandas.pydata.org/) will come in handy.\n",
    "\n",
    "Again in this we're only going to scratch the surface. You should read more about the features it has and experiment outside of this workshop. "
   ]
  },
  {
   "cell_type": "code",
   "execution_count": 23,
   "metadata": {
    "colab": {},
    "colab_type": "code",
    "id": "z0ukdUM02vPR"
   },
   "outputs": [],
   "source": [
    "# import pandas\n",
    "import pandas as pd"
   ]
  },
  {
   "cell_type": "code",
   "execution_count": 24,
   "metadata": {
    "colab": {},
    "colab_type": "code",
    "id": "hEj79H7bKGqz"
   },
   "outputs": [],
   "source": [
    "# Put information into a dataframe\n",
    "table = pd.DataFrame({'salary': num_salaries, \n",
    "                   'Name': names,})"
   ]
  },
  {
   "cell_type": "code",
   "execution_count": 25,
   "metadata": {
    "colab": {
     "base_uri": "https://localhost:8080/",
     "height": 168
    },
    "colab_type": "code",
    "id": "_RqAPH0OMhNV",
    "outputId": "b69cd778-037b-4da7-802c-df948775fdf8"
   },
   "outputs": [
    {
     "data": {
      "text/html": [
       "<div>\n",
       "<style scoped>\n",
       "    .dataframe tbody tr th:only-of-type {\n",
       "        vertical-align: middle;\n",
       "    }\n",
       "\n",
       "    .dataframe tbody tr th {\n",
       "        vertical-align: top;\n",
       "    }\n",
       "\n",
       "    .dataframe thead th {\n",
       "        text-align: right;\n",
       "    }\n",
       "</style>\n",
       "<table border=\"1\" class=\"dataframe\">\n",
       "  <thead>\n",
       "    <tr style=\"text-align: right;\">\n",
       "      <th></th>\n",
       "      <th>salary</th>\n",
       "      <th>Name</th>\n",
       "    </tr>\n",
       "  </thead>\n",
       "  <tbody>\n",
       "    <tr>\n",
       "      <th>0</th>\n",
       "      <td>21000000000</td>\n",
       "      <td>Elon Musk</td>\n",
       "    </tr>\n",
       "    <tr>\n",
       "      <th>1</th>\n",
       "      <td>137000400000</td>\n",
       "      <td>Jeff Bezos</td>\n",
       "    </tr>\n",
       "    <tr>\n",
       "      <th>2</th>\n",
       "      <td>95000000000</td>\n",
       "      <td>Bill Gates</td>\n",
       "    </tr>\n",
       "    <tr>\n",
       "      <th>3</th>\n",
       "      <td>54600000000</td>\n",
       "      <td>Mark Zuckerburg</td>\n",
       "    </tr>\n",
       "  </tbody>\n",
       "</table>\n",
       "</div>"
      ],
      "text/plain": [
       "         salary              Name\n",
       "0   21000000000        Elon Musk \n",
       "1  137000400000       Jeff Bezos \n",
       "2   95000000000       Bill Gates \n",
       "3   54600000000  Mark Zuckerburg "
      ]
     },
     "execution_count": 25,
     "metadata": {},
     "output_type": "execute_result"
    }
   ],
   "source": [
    "table"
   ]
  },
  {
   "cell_type": "markdown",
   "metadata": {
    "colab_type": "text",
    "id": "AagKak9VNCsG"
   },
   "source": [
    "Hey that is much easier to read!\n",
    "\n",
    "But lets say we want to sort it buy who is worth the most, so we can see where people stand at a glance. "
   ]
  },
  {
   "cell_type": "markdown",
   "metadata": {
    "colab_type": "text",
    "id": "2vCcZv8vKn7k"
   },
   "source": []
  },
  {
   "cell_type": "markdown",
   "metadata": {
    "colab_type": "text",
    "id": "cwYfNIVDKoOb"
   },
   "source": []
  },
  {
   "cell_type": "code",
   "execution_count": 43,
   "metadata": {
    "colab": {},
    "colab_type": "code",
    "id": "pfG4F06W2Mu1"
   },
   "outputs": [],
   "source": [
    "# Sort the values by highest to lowest salary\n",
    "table = table.sort_values('salary', ascending=False).reset_index().drop(columns='index')\n"
   ]
  },
  {
   "cell_type": "markdown",
   "metadata": {
    "colab_type": "text",
    "id": "DRUJ1jfQK2Jr"
   },
   "source": []
  },
  {
   "cell_type": "code",
   "execution_count": 27,
   "metadata": {
    "colab": {
     "base_uri": "https://localhost:8080/",
     "height": 168
    },
    "colab_type": "code",
    "id": "dHI1NgLXKPSV",
    "outputId": "c5611406-4e51-4098-87a7-e39e30139b96"
   },
   "outputs": [
    {
     "data": {
      "text/html": [
       "<div>\n",
       "<style scoped>\n",
       "    .dataframe tbody tr th:only-of-type {\n",
       "        vertical-align: middle;\n",
       "    }\n",
       "\n",
       "    .dataframe tbody tr th {\n",
       "        vertical-align: top;\n",
       "    }\n",
       "\n",
       "    .dataframe thead th {\n",
       "        text-align: right;\n",
       "    }\n",
       "</style>\n",
       "<table border=\"1\" class=\"dataframe\">\n",
       "  <thead>\n",
       "    <tr style=\"text-align: right;\">\n",
       "      <th></th>\n",
       "      <th>salary</th>\n",
       "      <th>Name</th>\n",
       "    </tr>\n",
       "  </thead>\n",
       "  <tbody>\n",
       "    <tr>\n",
       "      <th>0</th>\n",
       "      <td>137000400000</td>\n",
       "      <td>Jeff Bezos</td>\n",
       "    </tr>\n",
       "    <tr>\n",
       "      <th>1</th>\n",
       "      <td>95000000000</td>\n",
       "      <td>Bill Gates</td>\n",
       "    </tr>\n",
       "    <tr>\n",
       "      <th>2</th>\n",
       "      <td>54600000000</td>\n",
       "      <td>Mark Zuckerburg</td>\n",
       "    </tr>\n",
       "    <tr>\n",
       "      <th>3</th>\n",
       "      <td>21000000000</td>\n",
       "      <td>Elon Musk</td>\n",
       "    </tr>\n",
       "  </tbody>\n",
       "</table>\n",
       "</div>"
      ],
      "text/plain": [
       "         salary              Name\n",
       "0  137000400000       Jeff Bezos \n",
       "1   95000000000       Bill Gates \n",
       "2   54600000000  Mark Zuckerburg \n",
       "3   21000000000        Elon Musk "
      ]
     },
     "execution_count": 27,
     "metadata": {},
     "output_type": "execute_result"
    }
   ],
   "source": [
    "table"
   ]
  },
  {
   "cell_type": "markdown",
   "metadata": {
    "colab_type": "text",
    "id": "wVaQSPW3NltX"
   },
   "source": [
    "Awesome! Lets a do a quick bar graph to make it even easier!\n",
    "\n"
   ]
  },
  {
   "cell_type": "code",
   "execution_count": 42,
   "metadata": {
    "colab": {
     "base_uri": "https://localhost:8080/",
     "height": 440
    },
    "colab_type": "code",
    "id": "rQ6eLwLS5sld",
    "outputId": "f016f74f-94f6-4c7b-e9d9-ac0a70460b46"
   },
   "outputs": [
    {
     "data": {
      "image/png": "[encoded data removed]",
      "text/plain": [
       "<Figure size 432x288 with 1 Axes>"
      ]
     },
     "metadata": {
      "needs_background": "light"
     },
     "output_type": "display_data"
    }
   ],
   "source": [
    "table.plot(kind='bar', x = 'Name', y = 'salary');"
   ]
  },
  {
   "cell_type": "markdown",
   "metadata": {
    "colab_type": "text",
    "id": "W_nk7ZqMsg5R"
   },
   "source": [
    "# Text Analysis"
   ]
  },
  {
   "cell_type": "markdown",
   "metadata": {
    "colab_type": "text",
    "id": "pv54dRWqruGz"
   },
   "source": [
    "Lets do some sentiment analysis on our headlines `h2` elements\n",
    "\n",
    "Maybe we're looking at a list of News headlines and we only want to read the ones we think are positive"
   ]
  },
  {
   "cell_type": "code",
   "execution_count": 29,
   "metadata": {
    "colab": {},
    "colab_type": "code",
    "id": "1BEkoKegP_QV"
   },
   "outputs": [],
   "source": [
    "# get all the h2s on the page and display each one\n",
    "content = main_content.find_all('h2')\n"
   ]
  },
  {
   "cell_type": "code",
   "execution_count": 30,
   "metadata": {
    "colab": {
     "base_uri": "https://localhost:8080/",
     "height": 55
    },
    "colab_type": "code",
    "id": "TPzw0YW-QhY5",
    "outputId": "708b4092-9d81-4c63-9e1d-65fda2163634"
   },
   "outputs": [
    {
     "name": "stdout",
     "output_type": "stream",
     "text": [
      "[<h2 class=\"headline\">I love this!</h2>, <h2 class=\"headline\">I hate this so much!</h2>, <h2 class=\"headline\">The dumbest thing happened</h2>, <h2 class=\"headline\">This is a great workshop!</h2>, <h2 class=\"headline\">This workshop is horrible</h2>, <h2 class=\"headline\">I'm tired...</h2>, <h2 class=\"headline\">This thing is ok...</h2>]\n"
     ]
    }
   ],
   "source": [
    "print(content)"
   ]
  },
  {
   "cell_type": "code",
   "execution_count": 31,
   "metadata": {
    "colab": {},
    "colab_type": "code",
    "id": "UaM-Q15JQfRE"
   },
   "outputs": [],
   "source": [
    "dataset =[]\n",
    "\n",
    "for h2 in content:\n",
    "    dataset.append(h2.text)\n",
    "    \n"
   ]
  },
  {
   "cell_type": "code",
   "execution_count": 32,
   "metadata": {
    "colab": {
     "base_uri": "https://localhost:8080/",
     "height": 55
    },
    "colab_type": "code",
    "id": "nMwxZcffQp-b",
    "outputId": "b521ba16-fb19-45bd-9c1c-35ccbd15ee28"
   },
   "outputs": [
    {
     "name": "stdout",
     "output_type": "stream",
     "text": [
      "['I love this!', 'I hate this so much!', 'The dumbest thing happened', 'This is a great workshop!', 'This workshop is horrible', \"I'm tired...\", 'This thing is ok...']\n"
     ]
    }
   ],
   "source": [
    "print(dataset)"
   ]
  },
  {
   "cell_type": "markdown",
   "metadata": {
    "colab_type": "text",
    "id": "ZA6fONMFRwQ6"
   },
   "source": [
    "Import [NLTK](https://www.nltk.org/)(Natural Language Toolkit) python module\n",
    "\n",
    "Yet again we're only going to use just a tiny bit of NLTK, but if you're intertested in Natural Language Processing you should totally read more about it!!!"
   ]
  },
  {
   "cell_type": "code",
   "execution_count": 33,
   "metadata": {
    "colab": {
     "base_uri": "https://localhost:8080/",
     "height": 52
    },
    "colab_type": "code",
    "id": "ek-ovom_SH3m",
    "outputId": "28b70e3d-114b-40e9-8940-6d4344f08bcc"
   },
   "outputs": [
    {
     "name": "stderr",
     "output_type": "stream",
     "text": [
      "[nltk_data] Downloading package vader_lexicon to\n",
      "[nltk_data]     /Users/seanreed1/nltk_data...\n"
     ]
    },
    {
     "data": {
      "text/plain": [
       "True"
      ]
     },
     "execution_count": 33,
     "metadata": {},
     "output_type": "execute_result"
    }
   ],
   "source": [
    "\n",
    "import nltk\n",
    "nltk.download('vader_lexicon')"
   ]
  },
  {
   "cell_type": "code",
   "execution_count": 34,
   "metadata": {
    "colab": {
     "base_uri": "https://localhost:8080/",
     "height": 72
    },
    "colab_type": "code",
    "id": "gfjHMKGCl2Rj",
    "outputId": "d6b4faed-2b8f-4d87-8fef-1312e58f35da"
   },
   "outputs": [],
   "source": [
    "from nltk.sentiment.vader import SentimentIntensityAnalyzer\n",
    "\n",
    "def sentiment(sentence):    \n",
    "    sentiment = SentimentIntensityAnalyzer()\n",
    "    score = sentiment.polarity_scores(sentence)\n",
    "    return score\n",
    " "
   ]
  },
  {
   "cell_type": "code",
   "execution_count": 35,
   "metadata": {
    "colab": {
     "base_uri": "https://localhost:8080/",
     "height": 501
    },
    "colab_type": "code",
    "id": "PkADv4rkSle_",
    "outputId": "72a1bb30-4e99-4958-ed68-0258f6fdcf15"
   },
   "outputs": [
    {
     "name": "stdout",
     "output_type": "stream",
     "text": [
      "\n",
      "\n",
      "I love this!\n",
      "{'neg': 0.0, 'neu': 0.182, 'pos': 0.818, 'compound': 0.6696}\n",
      "\n",
      "\n",
      "I hate this so much!\n",
      "{'neg': 0.571, 'neu': 0.429, 'pos': 0.0, 'compound': -0.6114}\n",
      "\n",
      "\n",
      "The dumbest thing happened\n",
      "{'neg': 0.524, 'neu': 0.476, 'pos': 0.0, 'compound': -0.5106}\n",
      "\n",
      "\n",
      "This is a great workshop!\n",
      "{'neg': 0.0, 'neu': 0.406, 'pos': 0.594, 'compound': 0.6588}\n",
      "\n",
      "\n",
      "This workshop is horrible\n",
      "{'neg': 0.538, 'neu': 0.462, 'pos': 0.0, 'compound': -0.5423}\n",
      "\n",
      "\n",
      "I'm tired...\n",
      "{'neg': 0.0, 'neu': 1.0, 'pos': 0.0, 'compound': 0.0}\n",
      "\n",
      "\n",
      "This thing is ok...\n",
      "{'neg': 0.0, 'neu': 1.0, 'pos': 0.0, 'compound': 0.0}\n"
     ]
    }
   ],
   "source": [
    "for headline in dataset:\n",
    "  print(\"\\n\")\n",
    "  print(headline)\n",
    "  print(sentiment(headline))"
   ]
  },
  {
   "cell_type": "markdown",
   "metadata": {
    "colab_type": "text",
    "id": "hvpOgtQouO0H"
   },
   "source": [
    "Lets use Pandas to make our output better"
   ]
  },
  {
   "cell_type": "code",
   "execution_count": 36,
   "metadata": {
    "colab": {
     "base_uri": "https://localhost:8080/",
     "height": 258
    },
    "colab_type": "code",
    "id": "Q97bG3kBsP5e",
    "outputId": "bafc2020-c220-4e86-ae9c-59ba62985bc6"
   },
   "outputs": [
    {
     "data": {
      "text/html": [
       "<div>\n",
       "<style scoped>\n",
       "    .dataframe tbody tr th:only-of-type {\n",
       "        vertical-align: middle;\n",
       "    }\n",
       "\n",
       "    .dataframe tbody tr th {\n",
       "        vertical-align: top;\n",
       "    }\n",
       "\n",
       "    .dataframe thead th {\n",
       "        text-align: right;\n",
       "    }\n",
       "</style>\n",
       "<table border=\"1\" class=\"dataframe\">\n",
       "  <thead>\n",
       "    <tr style=\"text-align: right;\">\n",
       "      <th></th>\n",
       "      <th>headline</th>\n",
       "      <th>compound</th>\n",
       "      <th>neg</th>\n",
       "      <th>neu</th>\n",
       "      <th>pos</th>\n",
       "    </tr>\n",
       "  </thead>\n",
       "  <tbody>\n",
       "    <tr>\n",
       "      <th>0</th>\n",
       "      <td>I love this!</td>\n",
       "      <td>0.6696</td>\n",
       "      <td>0.000</td>\n",
       "      <td>0.182</td>\n",
       "      <td>0.818</td>\n",
       "    </tr>\n",
       "    <tr>\n",
       "      <th>1</th>\n",
       "      <td>I hate this so much!</td>\n",
       "      <td>-0.6114</td>\n",
       "      <td>0.571</td>\n",
       "      <td>0.429</td>\n",
       "      <td>0.000</td>\n",
       "    </tr>\n",
       "    <tr>\n",
       "      <th>2</th>\n",
       "      <td>The dumbest thing happened</td>\n",
       "      <td>-0.5106</td>\n",
       "      <td>0.524</td>\n",
       "      <td>0.476</td>\n",
       "      <td>0.000</td>\n",
       "    </tr>\n",
       "    <tr>\n",
       "      <th>3</th>\n",
       "      <td>This is a great workshop!</td>\n",
       "      <td>0.6588</td>\n",
       "      <td>0.000</td>\n",
       "      <td>0.406</td>\n",
       "      <td>0.594</td>\n",
       "    </tr>\n",
       "    <tr>\n",
       "      <th>4</th>\n",
       "      <td>This workshop is horrible</td>\n",
       "      <td>-0.5423</td>\n",
       "      <td>0.538</td>\n",
       "      <td>0.462</td>\n",
       "      <td>0.000</td>\n",
       "    </tr>\n",
       "    <tr>\n",
       "      <th>5</th>\n",
       "      <td>I'm tired...</td>\n",
       "      <td>0.0000</td>\n",
       "      <td>0.000</td>\n",
       "      <td>1.000</td>\n",
       "      <td>0.000</td>\n",
       "    </tr>\n",
       "    <tr>\n",
       "      <th>6</th>\n",
       "      <td>This thing is ok...</td>\n",
       "      <td>0.0000</td>\n",
       "      <td>0.000</td>\n",
       "      <td>1.000</td>\n",
       "      <td>0.000</td>\n",
       "    </tr>\n",
       "  </tbody>\n",
       "</table>\n",
       "</div>"
      ],
      "text/plain": [
       "                     headline  compound    neg    neu    pos\n",
       "0                I love this!    0.6696  0.000  0.182  0.818\n",
       "1        I hate this so much!   -0.6114  0.571  0.429  0.000\n",
       "2  The dumbest thing happened   -0.5106  0.524  0.476  0.000\n",
       "3   This is a great workshop!    0.6588  0.000  0.406  0.594\n",
       "4   This workshop is horrible   -0.5423  0.538  0.462  0.000\n",
       "5                I'm tired...    0.0000  0.000  1.000  0.000\n",
       "6         This thing is ok...    0.0000  0.000  1.000  0.000"
      ]
     },
     "execution_count": 36,
     "metadata": {},
     "output_type": "execute_result"
    }
   ],
   "source": [
    "nltk_results = [sentiment(headline) for headline in dataset]\n",
    "\n",
    "import pandas as pd\n",
    "results_df = pd.DataFrame(nltk_results)\n",
    "text_df = pd.DataFrame(dataset, columns = ['headline'])\n",
    "nltk_df = text_df.join(results_df)\n",
    "\n",
    "#print(nltk_results)\n",
    "nltk_df\n"
   ]
  },
  {
   "cell_type": "code",
   "execution_count": 37,
   "metadata": {
    "colab": {
     "base_uri": "https://localhost:8080/",
     "height": 485
    },
    "colab_type": "code",
    "id": "IAXxdbSTro09",
    "outputId": "9fe78c5a-9b28-454b-ccef-35c6815d0b58"
   },
   "outputs": [
    {
     "data": {
      "image/png": "[encoded data removed]",
      "text/plain": [
       "<Figure size 432x288 with 1 Axes>"
      ]
     },
     "metadata": {
      "needs_background": "light"
     },
     "output_type": "display_data"
    }
   ],
   "source": [
    "nltk_df.plot(kind='bar', x = 'headline', y = 'neg');"
   ]
  },
  {
   "cell_type": "code",
   "execution_count": 38,
   "metadata": {
    "colab": {
     "base_uri": "https://localhost:8080/",
     "height": 481
    },
    "colab_type": "code",
    "id": "7MKxLI6OS9jk",
    "outputId": "4e8fd89d-b1c3-41de-8a0b-e2aa86c6825a"
   },
   "outputs": [
    {
     "data": {
      "image/png": "[encoded data removed]",
      "text/plain": [
       "<Figure size 432x288 with 1 Axes>"
      ]
     },
     "metadata": {
      "needs_background": "light"
     },
     "output_type": "display_data"
    }
   ],
   "source": [
    "nltk_df.plot(kind='bar', x = 'headline', y = 'neu');"
   ]
  },
  {
   "cell_type": "code",
   "execution_count": 39,
   "metadata": {
    "colab": {
     "base_uri": "https://localhost:8080/",
     "height": 481
    },
    "colab_type": "code",
    "id": "tk345Nk6S-IY",
    "outputId": "e48b6347-cbba-4339-c008-22918bc4cb6f"
   },
   "outputs": [
    {
     "data": {
      "image/png": "[encoded data removed]",
      "text/plain": [
       "<Figure size 432x288 with 1 Axes>"
      ]
     },
     "metadata": {
      "needs_background": "light"
     },
     "output_type": "display_data"
    }
   ],
   "source": [
    "nltk_df.plot(kind='bar', x = 'headline', y = 'pos');"
   ]
  },
  {
   "cell_type": "markdown",
   "metadata": {
    "colab_type": "text",
    "id": "0_sKYH3Vv5mh"
   },
   "source": [
    "# Keep Learning Challenges!\n",
    "\n",
    "- Redo everything here locally on your machine by installing python(Anaconda).\n",
    "\n",
    "- Try a different web page! Maybe look at news site and analyze the headlines or content!\n",
    "\n",
    "- Try making better visualizations with Matplotlib\n",
    "\n",
    "- Save to a file or database on your computer\n",
    "\n",
    "- Scrape Wikipedia page for a famous person and get their age, does it work if the person is no longer alive?\n",
    "\n",
    "- Look up how to navigate and scrape pages linked together\n",
    "\n",
    "  "
   ]
  },
  {
   "cell_type": "markdown",
   "metadata": {
    "colab_type": "text",
    "id": "FNYASq5XX6lp"
   },
   "source": [
    "# Resources:\n",
    "\n",
    "- [Free Data Science Prep](https://www.galvanize.com/data-science-prep)\n",
    "\n",
    "\n",
    "- Checkout [Scrapy](https://scrapy.org/). Another python module foring doing web scraping. \n"
   ]
  },
  {
   "cell_type": "markdown",
   "metadata": {
    "colab_type": "text",
    "id": "y_a0wYMhYBH4"
   },
   "source": [
    "## What is Galvanize?\n",
    "###### We are a community!\n",
    "\n",
    "\n",
    "#### Immersive Bootcamp\n",
    "\n",
    "- [Data Science](https://www.galvanize.com/data-science) - 5/6/19 - 8/2/19 \n",
    "\n",
    "- [Software Engineer](https://www.galvanize.com/web-development) - 2/19/19 - 5/17/19\n",
    "\n",
    "#### Part-Time Courses\n",
    "\n",
    "- [Data Analytics](https://www.galvanize.com/part-time/data-analytics) 2/12/19 - 5/2/19\n",
    "- [Python Fundamentals](https://www.galvanize.com/part-time/data-science-fundamentals) - 2/20/19 - 3/29/19\n",
    "\n",
    "#### Co-working Space\n",
    "\n",
    "[work in our building!](https://www.galvanize.com/entrepreneur)\n",
    "\n",
    "#### We are a community\n",
    "\n",
    "## Questions\n",
    "\n",
    "Please feel free to reach out to me with any questions! Let me know what you're planning to do next and how I can help!\n",
    "\n",
    "\n",
    "- Email: [sean.reed@galvanize.com](mailto:sean.reed@galvanize.com)\n"
   ]
  },
  {
   "cell_type": "code",
   "execution_count": null,
   "metadata": {
    "colab": {},
    "colab_type": "code",
    "id": "7fB2ieBIYTjt"
   },
   "outputs": [],
   "source": []
  }
 ],
 "metadata": {
  "colab": {
   "collapsed_sections": [],
   "name": "StartWebScraping.ipynb",
   "provenance": [],
   "version": "0.3.2"
  },
  "kernelspec": {
   "display_name": "Python 3",
   "language": "python",
   "name": "python3"
  },
  "language_info": {
   "codemirror_mode": {
    "name": "ipython",
    "version": 3
   },
   "file_extension": ".py",
   "mimetype": "text/x-python",
   "name": "python",
   "nbconvert_exporter": "python",
   "pygments_lexer": "ipython3",
   "version": "3.6.5"
  }
 },
 "nbformat": 4,
 "nbformat_minor": 2
}
